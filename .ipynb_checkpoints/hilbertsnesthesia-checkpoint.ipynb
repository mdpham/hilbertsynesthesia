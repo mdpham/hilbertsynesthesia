{
 "cells": [
  {
   "cell_type": "code",
   "execution_count": 225,
   "metadata": {
    "collapsed": false
   },
   "outputs": [
    {
     "name": "stderr",
     "output_type": "stream",
     "text": [
      "\u001b[1m\u001b[34mINFO: Recompiling stale cache file /Users/martinpham/.julia/lib/v0.5/FixedSizeArrays.ji for module FixedSizeArrays.\n",
      "\u001b[0m\u001b[1m\u001b[34mINFO: Recompiling stale cache file /Users/martinpham/.julia/lib/v0.5/PlotUtils.ji for module PlotUtils.\n",
      "\u001b[0m\u001b[1m\u001b[34mINFO: Recompiling stale cache file /Users/martinpham/.julia/lib/v0.5/PlotThemes.ji for module PlotThemes.\n",
      "\u001b[0m\u001b[1m\u001b[34mINFO: Recompiling stale cache file /Users/martinpham/.julia/lib/v0.5/Showoff.ji for module Showoff.\n",
      "\u001b[0m"
     ]
    }
   ],
   "source": [
    "using WAV, FileIO, Images, TestImages, Plots"
   ]
  },
  {
   "cell_type": "code",
   "execution_count": 123,
   "metadata": {
    "collapsed": false
   },
   "outputs": [],
   "source": [
    "fs = 8000\n",
    "T = 1\n",
    "t = 0:(1/fs):T\n",
    "\n",
    "f = 130\n",
    "a = 0.5N0f8\n",
    "# y = a*sin(2*pi*f*t)\n",
    "y = a*sin(2*pi*256f*t)\n",
    "wavwrite(y,\"test.wav\",Fs=fs)\n",
    "# wavplay(y+y2,fs)"
   ]
  },
  {
   "cell_type": "code",
   "execution_count": 99,
   "metadata": {
    "collapsed": false
   },
   "outputs": [
    {
     "name": "stderr",
     "output_type": "stream",
     "text": [
      "WARNING: Method definition hilbert2d(Int64) in module Main at In[84]:5 overwritten at In[99]:5.\n",
      "WARNING: Method definition indices2dcurve(Any, Any) in module Main at In[84]:20 overwritten at In[99]:20.\n"
     ]
    },
    {
     "data": {
      "text/plain": [
       "(\n",
       "[1 2 … 255 256],\n",
       "\n",
       "[1 1 … 1 1])"
      ]
     },
     "execution_count": 99,
     "metadata": {},
     "output_type": "execute_result"
    }
   ],
   "source": [
    "# HILBERT CURVE GENERATING\n",
    "\n",
    "# Generate hilbert vertices recursively\n",
    "function hilbert2d(n::Int)\n",
    "    if n == 0\n",
    "        x = 0\n",
    "        y = 0\n",
    "    else\n",
    "        x0,y0 = hilbert2d(n-1)\n",
    "        x = .5*[-.5+y0 -.5+x0 .5+x0 .5-y0]\n",
    "        y = .5*[-.5+x0 .5+y0 .5+y0 -.5-x0]\n",
    "    end\n",
    "    x,y\n",
    "end\n",
    "\n",
    "# n: resolution level\n",
    "# curve: Julia function to return vertices of space filling curve\n",
    "# returns values [-0.5,0.5]^2 into indices (for 1-indexed square images)\n",
    "function indices2dcurve(n,curve)\n",
    "    x,y = curve(n)\n",
    "    xi = (2^n)*(x+0.5) + 0.5\n",
    "    yi = (2^n)*(y+0.5) + 0.5\n",
    "    c = map(x -> round(Int,x), xi)\n",
    "#     r = map(y -> (2^n+1)-round(Int,y), yi) #row column downwards so inverse by length\n",
    "    r = map(y -> round(Int,y), yi) # regular non-image indices\n",
    "    c,r\n",
    "end\n",
    "c,r = indices2dcurve(8,hilbert2d)"
   ]
  },
  {
   "cell_type": "code",
   "execution_count": 139,
   "metadata": {
    "collapsed": false
   },
   "outputs": [
    {
     "name": "stderr",
     "output_type": "stream",
     "text": [
      "WARNING: Method definition image1d(Any, Any) in module Main at In[134]:3 overwritten at In[139]:3.\n"
     ]
    },
    {
     "data": {
      "text/plain": [
       "1×65536 Array{N0f8,2}:\n",
       " 0.635N0f8  0.635N0f8  0.631N0f8  …  0.192N0f8  0.173N0f8  0.173N0f8"
      ]
     },
     "execution_count": 139,
     "metadata": {},
     "output_type": "execute_result"
    }
   ],
   "source": [
    "# Takes 256x256 image and Hilbert curve function and reshapes into array\n",
    "function image1d(img,curve)\n",
    "    c,r = indices2dcurve(8,curve)\n",
    "    img1d = map(yx-> img[yx...].val, zip(c,r))\n",
    "    return img1d\n",
    "end\n",
    "img1d = image1d(Gray.(testimage(\"lena\")),hilbert2d)\n"
   ]
  },
  {
   "cell_type": "code",
   "execution_count": 242,
   "metadata": {
    "collapsed": false
   },
   "outputs": [
    {
     "name": "stderr",
     "output_type": "stream",
     "text": [
      "WARNING: Method definition intensity2frequency(Any) in module Main at In[222]:14 overwritten at In[242]:14.\n"
     ]
    }
   ],
   "source": [
    "reduce((v0,next)-> [v0... next],[],[1 2 3 4])\n",
    "a = 1:floor(Int,length(img1d)/256)\n",
    "# Bin indices into 256 blocks, each corresponding to a pixel along Hilbert path\n",
    "pixpaths = map(i -> +(*(i-1,256),1):+(*(i-1,256),256), a)\n",
    "# Get pixel values along Hilbert curve\n",
    "intensities = map(p -> img1d[p], pixpaths)\n",
    "# Map to frequencies and superimpose each per bin (each bin one second)\n",
    "f = 130 # fundamental frequency\n",
    "\n",
    "\n",
    "# Takes 256 array of intensities and maps them onto some fundamental freq+harmonics\n",
    "# Add arrays of frequencies to superimpose sound\n",
    "function intensity2frequency(intensities)\n",
    "    fundamental = 130\n",
    "    fs = 8000\n",
    "    T = 1\n",
    "    t = collect(0:(1/fs):T) # one second\n",
    "    harmonics = 1:length(intensities)\n",
    "    sound = map(h->sin(2pi*h*fundamental*t), harmonics)\n",
    "#     map(i-> map(i-> i*sin(2pi*fundamental*t),i), intensities)\n",
    "#     mapreduce(i->i*sin(2pi*fundamental*t),+,intensities)\n",
    "    mapreduce(s->*(s...),+, zip(intensities,sound))\n",
    "end\n",
    "clips = map(intensity2frequency, intensities)\n",
    "\n",
    "wavwrite(vcat(clips...),\"test.wav\",Fs=fs)"
   ]
  },
  {
   "cell_type": "code",
   "execution_count": null,
   "metadata": {
    "collapsed": true
   },
   "outputs": [],
   "source": []
  },
  {
   "cell_type": "code",
   "execution_count": null,
   "metadata": {
    "collapsed": true
   },
   "outputs": [],
   "source": []
  }
 ],
 "metadata": {
  "kernelspec": {
   "display_name": "Julia 0.5.1",
   "language": "julia",
   "name": "julia-0.5"
  },
  "language_info": {
   "file_extension": ".jl",
   "mimetype": "application/julia",
   "name": "julia",
   "version": "0.5.1"
  }
 },
 "nbformat": 4,
 "nbformat_minor": 1
}
